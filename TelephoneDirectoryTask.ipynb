{
 "cells": [
  {
   "cell_type": "code",
   "execution_count": 18,
   "id": "d7205247",
   "metadata": {},
   "outputs": [
    {
     "name": "stdout",
     "output_type": "stream",
     "text": [
      "{'_id': ObjectId('63cf9f797c3cd1eb3a0c6484'), 'Name': 'Prem', 'Phone Number': 1234567890, 'Address': {'street': 'Prem nagar', 'City': 'Coimbatore', 'State': 'TamilNadu'}}\n",
      "{'_id': ObjectId('63cfa0747c3cd1eb3a0c6485'), 'Name': 'Gnana', 'Phone Number': 9876543210, 'Address': {'street': 'TNK Puram', 'City': 'Tirupur', 'State': 'TaminlNadu'}}\n",
      "{'_id': ObjectId('63cfa0747c3cd1eb3a0c6486'), 'Name': 'Nag', 'Phone Number': 3456789012, 'Address': {'street': 'RS Puram', 'City': 'Coimbatore', 'State': 'TaminlNadu'}}\n",
      "{'_id': ObjectId('63cfa0747c3cd1eb3a0c6487'), 'Name': 'Sriram', 'Phone Number': 8765432190, 'Address': {'street': 'Nilambur', 'City': 'Palakkad', 'State': 'Kerala'}}\n",
      "{'_id': ObjectId('63cfa1257c3cd1eb3a0c6489'), 'Name': 'Prem', 'Phone Number': 1234567890, 'Address': {'street': 'Prem nagar', 'City': 'Coimbatore', 'State': 'TamilNadu'}}\n"
     ]
    }
   ],
   "source": [
    "import pymongo         # importing the required modules\n",
    "client = pymongo.MongoClient(\"mongodb://localhost:27017/\")      # Initiating a mongoclient instance\n",
    "db1 = client[\"Tele_Diary\"]   # Assign a db variable and creating database\n",
    "my_col1.insert_one({\"Name\":\"Prem\",\"Phone Number\": 1234567890,\"Address\":{\"street\": \"Prem nagar\",\"City\":\"Coimbatore\",\"State\":\"TamilNadu\"}})  # Inserting data into the collection\n",
    "my_col1 = db1['Tele_Diary']   # Creating a collection in the database\n",
    "for i in my_col1.find():    # Retrieving the data \n",
    "    print(i)"
   ]
  },
  {
   "cell_type": "code",
   "execution_count": 7,
   "id": "2205607f",
   "metadata": {},
   "outputs": [
    {
     "data": {
      "text/plain": [
       "<pymongo.results.InsertOneResult at 0x12738806b80>"
      ]
     },
     "execution_count": 7,
     "metadata": {},
     "output_type": "execute_result"
    }
   ],
   "source": [
    "# inserting many data in to the collection\n",
    "\n",
    "my_col1.insert_one({\"Name\":\"Gnana\",\"Phone Number\": 9876543210,\"Address\":{\"street\": \"TNK Puram\",\"City\":\"Tirupur\",\"State\":\"TaminlNadu\"}})\n",
    "my_col1.insert_one({\"Name\":\"Nag\",\"Phone Number\": 3456789012,\"Address\":{\"street\": \"RS Puram\",\"City\":\"Coimbatore\",\"State\":\"TaminlNadu\"}})\n",
    "my_col1.insert_one({\"Name\":\"Sriram\",\"Phone Number\": 8765432190,\"Address\":{\"street\": \"Nilambur\",\"City\":\"Palakkad\",\"State\":\"Kerala\"}})"
   ]
  },
  {
   "cell_type": "code",
   "execution_count": 19,
   "id": "6f8a42aa",
   "metadata": {},
   "outputs": [
    {
     "name": "stdout",
     "output_type": "stream",
     "text": [
      "{'_id': ObjectId('63cf9f797c3cd1eb3a0c6484'), 'Name': 'Prem', 'Phone Number': 1234567890, 'Address': {'street': 'Prem nagar', 'City': 'Coimbatore', 'State': 'TamilNadu'}}\n",
      "{'_id': ObjectId('63cfa0747c3cd1eb3a0c6485'), 'Name': 'Gnana', 'Phone Number': 9876543210, 'Address': {'street': 'TNK Puram', 'City': 'Tirupur', 'State': 'TaminlNadu'}}\n",
      "{'_id': ObjectId('63cfa0747c3cd1eb3a0c6486'), 'Name': 'Nag', 'Phone Number': 3456789012, 'Address': {'street': 'RS Puram', 'City': 'Coimbatore', 'State': 'TaminlNadu'}}\n",
      "{'_id': ObjectId('63cfa0747c3cd1eb3a0c6487'), 'Name': 'Sriram', 'Phone Number': 8765432190, 'Address': {'street': 'Nilambur', 'City': 'Palakkad', 'State': 'Kerala'}}\n",
      "{'_id': ObjectId('63cfa1257c3cd1eb3a0c6489'), 'Name': 'Prem', 'Phone Number': 1234567890, 'Address': {'street': 'Prem nagar', 'City': 'Coimbatore', 'State': 'TamilNadu'}}\n"
     ]
    }
   ],
   "source": [
    "for i in my_col1.find():    # Retrieving the data \n",
    "    print(i)"
   ]
  },
  {
   "cell_type": "code",
   "execution_count": 20,
   "id": "c1dda5c0",
   "metadata": {},
   "outputs": [
    {
     "data": {
      "text/plain": [
       "<pymongo.results.DeleteResult at 0x12738832b20>"
      ]
     },
     "execution_count": 20,
     "metadata": {},
     "output_type": "execute_result"
    }
   ],
   "source": [
    "my_col1.delete_one({\"Name\":'Prem'})"
   ]
  },
  {
   "cell_type": "code",
   "execution_count": 21,
   "id": "5d665972",
   "metadata": {},
   "outputs": [
    {
     "name": "stdout",
     "output_type": "stream",
     "text": [
      "{'_id': ObjectId('63cfa0747c3cd1eb3a0c6485'), 'Name': 'Gnana', 'Phone Number': 9876543210, 'Address': {'street': 'TNK Puram', 'City': 'Tirupur', 'State': 'TaminlNadu'}}\n",
      "{'_id': ObjectId('63cfa0747c3cd1eb3a0c6486'), 'Name': 'Nag', 'Phone Number': 3456789012, 'Address': {'street': 'RS Puram', 'City': 'Coimbatore', 'State': 'TaminlNadu'}}\n",
      "{'_id': ObjectId('63cfa0747c3cd1eb3a0c6487'), 'Name': 'Sriram', 'Phone Number': 8765432190, 'Address': {'street': 'Nilambur', 'City': 'Palakkad', 'State': 'Kerala'}}\n",
      "{'_id': ObjectId('63cfa1257c3cd1eb3a0c6489'), 'Name': 'Prem', 'Phone Number': 1234567890, 'Address': {'street': 'Prem nagar', 'City': 'Coimbatore', 'State': 'TamilNadu'}}\n"
     ]
    }
   ],
   "source": [
    "for i in my_col1.find():    # Retrieving the data \n",
    "    print(i)"
   ]
  },
  {
   "cell_type": "code",
   "execution_count": 24,
   "id": "94c8107e",
   "metadata": {},
   "outputs": [
    {
     "name": "stdout",
     "output_type": "stream",
     "text": [
      "{'_id': ObjectId('63cfa0747c3cd1eb3a0c6486'), 'Name': 'Nag', 'Phone Number': 3456789012, 'Address': {'street': 'RS Puram', 'City': 'Coimbatore', 'State': 'TaminlNadu'}}\n"
     ]
    }
   ],
   "source": [
    "mysearch= {\"Phone Number\":3456789012}  # Retriving the data of person that belongs to the particular phone number\n",
    "A = my_col1.find(mysearch)\n",
    "for x in A:\n",
    "    print(x)"
   ]
  },
  {
   "cell_type": "code",
   "execution_count": 25,
   "id": "465ed34f",
   "metadata": {},
   "outputs": [
    {
     "name": "stdout",
     "output_type": "stream",
     "text": [
      "{'_id': ObjectId('63cfa0747c3cd1eb3a0c6485'), 'Name': 'Gnana', 'Phone Number': 9876543210, 'Address': {'street': 'TNK Puram', 'City': 'Tirupur', 'State': 'TaminlNadu'}}\n",
      "{'_id': ObjectId('63cfa0747c3cd1eb3a0c6486'), 'Name': 'Nag', 'Phone Number': 3456789012, 'Address': {'street': 'RS Puram', 'City': 'Coimbatore', 'State': 'TaminlNadu'}}\n",
      "{'_id': ObjectId('63cfa0747c3cd1eb3a0c6487'), 'Name': 'Lakshmanan', 'Phone Number': 8765432190, 'Address': {'street': 'Nilambur', 'City': 'Palakkad', 'State': 'Kerala'}}\n",
      "{'_id': ObjectId('63cfa1257c3cd1eb3a0c6489'), 'Name': 'Prem', 'Phone Number': 1234567890, 'Address': {'street': 'Prem nagar', 'City': 'Coimbatore', 'State': 'TamilNadu'}}\n"
     ]
    }
   ],
   "source": [
    "my_col1.update_one({\"Name\":\"Sriram\"},{\"$set\":{\"Name\":\"Lakshmanan\"}})     # Updating the data\n",
    "for i in my_col1.find():\n",
    "    print(i)"
   ]
  },
  {
   "cell_type": "code",
   "execution_count": 26,
   "id": "3f381397",
   "metadata": {},
   "outputs": [
    {
     "name": "stdout",
     "output_type": "stream",
     "text": [
      "{'_id': ObjectId('63cfa0747c3cd1eb3a0c6485'), 'Name': 'Gnana', 'Phone Number': 9876543210, 'Address': {'street': 'TNK Puram', 'City': 'Tirupur', 'State': 'TaminlNadu'}}\n",
      "{'_id': ObjectId('63cfa0747c3cd1eb3a0c6486'), 'Name': 'Prasad', 'Phone Number': 3456789012, 'Address': {'street': 'RS Puram', 'City': 'Coimbatore', 'State': 'TaminlNadu'}}\n",
      "{'_id': ObjectId('63cfa0747c3cd1eb3a0c6487'), 'Name': 'Lakshmanan', 'Phone Number': 8765432190, 'Address': {'street': 'Nilambur', 'City': 'Palakkad', 'State': 'Kerala'}}\n",
      "{'_id': ObjectId('63cfa1257c3cd1eb3a0c6489'), 'Name': 'Prem', 'Phone Number': 1234567890, 'Address': {'street': 'Prem nagar', 'City': 'Coimbatore', 'State': 'TamilNadu'}}\n"
     ]
    }
   ],
   "source": [
    "my_col1.update_one({\"Phone Number\": 3456789012},{\"$set\":{\"Name\":\"Prasad\"}})     # Updating the data\n",
    "for i in my_col1.find():\n",
    "    print(i)"
   ]
  },
  {
   "cell_type": "code",
   "execution_count": 28,
   "id": "0a632a47",
   "metadata": {},
   "outputs": [
    {
     "name": "stdout",
     "output_type": "stream",
     "text": [
      "{'_id': ObjectId('63cfa0747c3cd1eb3a0c6485'), 'Name': 'Gnana', 'Phone Number': 9876543210, 'Address': {'street': 'TNK Puram', 'City': 'Tirupur', 'State': 'TaminlNadu'}}\n",
      "{'_id': ObjectId('63cfa0747c3cd1eb3a0c6486'), 'Name': 'Prasad', 'Phone Number': 3456789012, 'Address': {'street': 'RS Puram', 'City': 'Coimbatore', 'State': 'TaminlNadu'}}\n",
      "{'_id': ObjectId('63cfa1257c3cd1eb3a0c6489'), 'Name': 'Prem', 'Phone Number': 1234567890, 'Address': {'street': 'Prem nagar', 'City': 'Coimbatore', 'State': 'TamilNadu'}}\n"
     ]
    }
   ],
   "source": [
    "my_col1.delete_one({\"Phone Number\":8765432190})        # Deleting the data that belongs to a paricular phone number.\n",
    "for i in my_col1.find():\n",
    "    print(i)"
   ]
  },
  {
   "cell_type": "code",
   "execution_count": null,
   "id": "fbbbe340",
   "metadata": {},
   "outputs": [],
   "source": []
  }
 ],
 "metadata": {
  "kernelspec": {
   "display_name": "Python 3 (ipykernel)",
   "language": "python",
   "name": "python3"
  },
  "language_info": {
   "codemirror_mode": {
    "name": "ipython",
    "version": 3
   },
   "file_extension": ".py",
   "mimetype": "text/x-python",
   "name": "python",
   "nbconvert_exporter": "python",
   "pygments_lexer": "ipython3",
   "version": "3.9.13"
  }
 },
 "nbformat": 4,
 "nbformat_minor": 5
}
